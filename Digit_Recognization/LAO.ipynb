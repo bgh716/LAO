{
  "cells": [
    {
      "cell_type": "markdown",
      "source": [
        "Todo</br>\n",
        "verify final_price and update jason"
      ],
      "metadata": {
        "id": "3nrFjZn-n3e3"
      }
    },
    {
      "cell_type": "code",
      "execution_count": 86,
      "metadata": {
        "colab": {
          "base_uri": "https://localhost:8080/"
        },
        "id": "Wo7G0Ts1M1_7",
        "outputId": "35263da1-0058-4dc5-c7bf-73dcd7cfd5a0"
      },
      "outputs": [
        {
          "output_type": "stream",
          "name": "stdout",
          "text": [
            "Looking in indexes: https://pypi.org/simple, https://us-python.pkg.dev/colab-wheels/public/simple/\n",
            "Requirement already satisfied: pymongo[srv] in /usr/local/lib/python3.7/dist-packages (4.1.1)\n",
            "Requirement already satisfied: dnspython<3.0.0,>=1.16.0 in /usr/local/lib/python3.7/dist-packages (from pymongo[srv]) (2.2.1)\n",
            "Drive already mounted at /content/drive; to attempt to forcibly remount, call drive.mount(\"/content/drive\", force_remount=True).\n"
          ]
        }
      ],
      "source": [
        "import torch\n",
        "import torch.nn as nn\n",
        "import torch.nn.functional as F\n",
        "import torch.optim as optim\n",
        "import torchvision\n",
        "import torchvision.transforms as transfroms\n",
        "from google.colab import drive\n",
        "import os\n",
        "import cv2\n",
        "from google.colab.patches import cv2_imshow\n",
        "from PIL import Image\n",
        "import numpy as np\n",
        "import tensorflow as tf\n",
        "!pip install pymongo[srv]\n",
        "import pymongo\n",
        "import pprint\n",
        "drive.mount('/content/drive')"
      ]
    },
    {
      "cell_type": "code",
      "execution_count": 87,
      "metadata": {
        "colab": {
          "base_uri": "https://localhost:8080/"
        },
        "id": "NJOuhMOsNFoM",
        "outputId": "92a92957-c33a-414c-9726-43637deee1f5"
      },
      "outputs": [
        {
          "output_type": "stream",
          "name": "stdout",
          "text": [
            "True\n",
            "cuda\n",
            "Python 3.7.13\n"
          ]
        }
      ],
      "source": [
        "BASE_DIR = '/content/drive/My Drive/LAO' #CNN model path\n",
        "print(torch.cuda.is_available())\n",
        "device = torch.device('cuda' if torch.cuda.is_available() else 'cpu')\n",
        "print(device)\n",
        "!python --version"
      ]
    },
    {
      "cell_type": "code",
      "execution_count": 88,
      "metadata": {
        "id": "xns7FNfoNOUx"
      },
      "outputs": [],
      "source": [
        "#Loading test data\n",
        "batch_size = 100\n",
        "num_classes = 10 # 0~9\n",
        "test_set = torchvision.datasets.MNIST(\n",
        "    root = BASE_DIR,\n",
        "    train = False,\n",
        "    download = False,\n",
        "    transform = transfroms.Compose([\n",
        "        transfroms.ToTensor() #Data Normalization\n",
        "    ])\n",
        ")\n",
        "test_loader = torch.utils.data.DataLoader(test_set, batch_size=batch_size, shuffle=True)"
      ]
    },
    {
      "cell_type": "code",
      "execution_count": 89,
      "metadata": {
        "id": "qwv_FXRdOoOE"
      },
      "outputs": [],
      "source": [
        "#CNN model structure\n",
        "class ConvNet(nn.Module):\n",
        "  def __init__(self):\n",
        "    super(ConvNet, self).__init__()\n",
        "\n",
        "    self.conv1 = nn.Sequential(\n",
        "      nn.Conv2d(1, 10, 5, padding = 2),\n",
        "      nn.BatchNorm2d(10),\n",
        "      nn.ReLU(inplace=True),\n",
        "      nn.Conv2d(10, 20, 5),\n",
        "      nn.BatchNorm2d(20),\n",
        "      nn.ReLU(inplace=True),\n",
        "      nn.MaxPool2d(2, 2),\n",
        "    )\n",
        "\n",
        "    self.conv2 = nn.Sequential(\n",
        "      nn.Conv2d(20, 40, 5, padding = 2),\n",
        "      nn.BatchNorm2d(40),\n",
        "      nn.ReLU(inplace=True),\n",
        "      nn.Conv2d(40, 80, 5),\n",
        "      nn.BatchNorm2d(80),\n",
        "      nn.ReLU(inplace=True),\n",
        "      nn.MaxPool2d(2, 2),\n",
        "    )\n",
        "\n",
        "    self.fc_net = nn.Sequential(\n",
        "      nn.Dropout2d(p=0.25, inplace=False),\n",
        "      nn.Linear(80 * 4 * 4, 100),\n",
        "      nn.BatchNorm1d(100),\n",
        "      nn.ReLU(inplace=True),\n",
        "      nn.Linear(100, num_classes),\n",
        "    ) # channel * W * H for first linear(FC) parameter\n",
        "\n",
        "  def forward(self, x):\n",
        "    x = self.conv1(x)\n",
        "    x = self.conv2(x)\n",
        "    x = x.view(-1, 80 * 4 * 4) #2D -> flat\n",
        "    x = self.fc_net(x)\n",
        "\n",
        "    return F.log_softmax(x)"
      ]
    },
    {
      "cell_type": "code",
      "execution_count": 90,
      "metadata": {
        "colab": {
          "base_uri": "https://localhost:8080/"
        },
        "id": "s09MGh1PNtG-",
        "outputId": "12829c8f-a380-49f5-f8eb-7ff7a7cdea22"
      },
      "outputs": [
        {
          "output_type": "execute_result",
          "data": {
            "text/plain": [
              "ConvNet(\n",
              "  (conv1): Sequential(\n",
              "    (0): Conv2d(1, 10, kernel_size=(5, 5), stride=(1, 1), padding=(2, 2))\n",
              "    (1): BatchNorm2d(10, eps=1e-05, momentum=0.1, affine=True, track_running_stats=True)\n",
              "    (2): ReLU(inplace=True)\n",
              "    (3): Conv2d(10, 20, kernel_size=(5, 5), stride=(1, 1))\n",
              "    (4): BatchNorm2d(20, eps=1e-05, momentum=0.1, affine=True, track_running_stats=True)\n",
              "    (5): ReLU(inplace=True)\n",
              "    (6): MaxPool2d(kernel_size=2, stride=2, padding=0, dilation=1, ceil_mode=False)\n",
              "  )\n",
              "  (conv2): Sequential(\n",
              "    (0): Conv2d(20, 40, kernel_size=(5, 5), stride=(1, 1), padding=(2, 2))\n",
              "    (1): BatchNorm2d(40, eps=1e-05, momentum=0.1, affine=True, track_running_stats=True)\n",
              "    (2): ReLU(inplace=True)\n",
              "    (3): Conv2d(40, 80, kernel_size=(5, 5), stride=(1, 1))\n",
              "    (4): BatchNorm2d(80, eps=1e-05, momentum=0.1, affine=True, track_running_stats=True)\n",
              "    (5): ReLU(inplace=True)\n",
              "    (6): MaxPool2d(kernel_size=2, stride=2, padding=0, dilation=1, ceil_mode=False)\n",
              "  )\n",
              "  (fc_net): Sequential(\n",
              "    (0): Dropout2d(p=0.25, inplace=False)\n",
              "    (1): Linear(in_features=1280, out_features=100, bias=True)\n",
              "    (2): BatchNorm1d(100, eps=1e-05, momentum=0.1, affine=True, track_running_stats=True)\n",
              "    (3): ReLU(inplace=True)\n",
              "    (4): Linear(in_features=100, out_features=10, bias=True)\n",
              "  )\n",
              ")"
            ]
          },
          "metadata": {},
          "execution_count": 90
        }
      ],
      "source": [
        "#Loading pretrained CNN model\n",
        "cwd = os.getcwd()\n",
        "dbPATH = os.path.join(cwd,\"drive/My Drive/LAO/pydb.txt\")\n",
        "PATH = os.path.join(cwd,\"drive/My Drive/LAO/LAO.pth\")\n",
        "tablePath = os.path.join(cwd,\"drive/My Drive/LAO/itemTable.npy\")\n",
        "model = torch.load(PATH)\n",
        "itemTable = np.load(tablePath)\n",
        "model.eval()"
      ]
    },
    {
      "cell_type": "code",
      "execution_count": 91,
      "metadata": {
        "colab": {
          "base_uri": "https://localhost:8080/"
        },
        "id": "3keljbuEOxGp",
        "outputId": "fef072e6-6c10-4390-958b-f415c103723e"
      },
      "outputs": [
        {
          "output_type": "stream",
          "name": "stderr",
          "text": [
            "/usr/local/lib/python3.7/dist-packages/torch/nn/functional.py:1320: UserWarning: dropout2d: Received a 2-D input to dropout2d, which is deprecated and will result in an error in a future release. To retain the behavior and silence this warning, please use dropout instead. Note that dropout2d exists to provide channel-wise dropout on inputs with 2 spatial dimensions, a channel dimension, and an optional batch dimension (i.e. 3D or 4D inputs).\n",
            "  warnings.warn(warn_msg)\n",
            "/usr/local/lib/python3.7/dist-packages/ipykernel_launcher.py:40: UserWarning: Implicit dimension choice for log_softmax has been deprecated. Change the call to include dim=X as an argument.\n"
          ]
        },
        {
          "output_type": "stream",
          "name": "stdout",
          "text": [
            "Test Accuracy:  99.51 %\n"
          ]
        }
      ],
      "source": [
        "#test model\n",
        "with torch.no_grad():\n",
        "    correct = 0\n",
        "    total = 0\n",
        "\n",
        "    for data, target in test_loader:\n",
        "        data = data.to(device)\n",
        "        target = target.to(device)\n",
        "        out = model(data)\n",
        "        preds = torch.max(out.data, 1)[1]\n",
        "        total += len(target)\n",
        "        correct += (preds==target).sum().item()\n",
        "        \n",
        "    print('Test Accuracy: ', 100.*correct/total, '%')"
      ]
    },
    {
      "cell_type": "code",
      "execution_count": 92,
      "metadata": {
        "id": "y4zPArbp1LkF"
      },
      "outputs": [],
      "source": [
        "def get_prices(img,device,model,prices,page):\n",
        "  y_st = 484 #starting y coordinate\n",
        "  y_ed = 541 #ending y coordinate\n",
        "  y_gap = y_ed - y_st\n",
        "  x_gap = 11\n",
        "  for i in range(10): # 10 items per page\n",
        "    x_st = 1507 #recent price starting x coordinate\n",
        "    x_ed = 1519 #recent price ending x coordinate\n",
        "    #x_st = 1668 #lowest price\n",
        "    #x_ed = 1680 #lowest price\n",
        "    digit = 0\n",
        "    price = torch.zeros(4,1,28,28) #4 digits 1x28x28 images\n",
        "    for j in range(4): # maximum 4 digits\n",
        "      im = img[y_st+21:y_ed-21,x_st:x_ed] #crop image\n",
        "      im = resizing(im) #28x28 resizing\n",
        "      if np.sum(im) == 0.0: #detecting blank\n",
        "        break #move to next item\n",
        "      else:\n",
        "        digit += 1\n",
        "      cv2_imshow(im)\n",
        "      print()\n",
        "      newim = im/255 #image normalization\n",
        "      price[j,0,:,:] = torch.from_numpy(newim)\n",
        "      #move to next digit\n",
        "      x_st -= x_gap\n",
        "      x_ed -= x_gap\n",
        "    value = predict(price[:digit,:,:,:],device,model).tolist()\n",
        "    print(value)\n",
        "    p = \"\"\n",
        "    for d in value[-1::-1]: #reverse order\n",
        "      p += str(d)\n",
        "    p = int(p)\n",
        "    prices[page,i] = p\n",
        "    if page == 3 and i == 5:\n",
        "      break #4th page has only 6 items\n",
        "    #move to next line\n",
        "    y_st = y_ed\n",
        "    y_ed += y_gap\n",
        "\n",
        "def get_crystal_price(img,device,model):\n",
        "  y_st = 833\n",
        "  y_ed = 851\n",
        "  x_st = 1696\n",
        "  x_ed = 1710\n",
        "  x_gap = x_ed - x_st - 1\n",
        "  digit = 0\n",
        "  price = torch.zeros(4,1,28,28)\n",
        "  for i in range(4): #maximum 4 digits\n",
        "    im = img[y_st:y_ed,x_st:x_ed]\n",
        "    im = resizing(im)\n",
        "    if np.sum(im) == 0.0:\n",
        "      break\n",
        "    else:\n",
        "      digit += 1\n",
        "    cv2_imshow(im)\n",
        "    print()\n",
        "    newim = im/255\n",
        "    price[i,0,:,:] = torch.from_numpy(newim)\n",
        "    x_st -= x_gap\n",
        "    x_ed -= x_gap\n",
        "    if i == 1:\n",
        "      x_st += 1\n",
        "      x_ed += 1\n",
        "  value = predict(price[:digit,:,:,:],device,model).tolist()\n",
        "  print(value)\n",
        "  p = \"\"\n",
        "  for d in value[-1::-1]:\n",
        "    p += str(d)\n",
        "  return int(p)\n",
        "\n",
        "def get_item_id(itemTable,itemColor):\n",
        "  idx = 0\n",
        "  for i in range(27):\n",
        "    itemCode = itemTable[i]\n",
        "    val = ((itemCode[0] - itemColor[0])**2 + (itemCode[1] - itemColor[1])**2 + (itemCode[2] - itemColor[2])**2)**(0.5)\n",
        "    if i == 0:\n",
        "      min = val\n",
        "    elif val < min:\n",
        "      idx = i\n",
        "      min = val\n",
        "  print(min)\n",
        "  print(idx)\n",
        "  return [min,idx]\n",
        "\n",
        "def get_item_pic(img,itemTable,coord,page):\n",
        "  y_st = 484 #starting y coordinate\n",
        "  y_ed = 541 #ending y coordinate\n",
        "  y_gap = y_ed - y_st\n",
        "  for i in range(10):\n",
        "    cv2_imshow(img[y_st:y_ed,873:925])\n",
        "    coord[page,i,:] = get_item_id(itemTable,[np.sum(img[y_st:y_ed,873:925,0]),np.sum(img[y_st:y_ed,873:925,1]),np.sum(img[y_st:y_ed,873:925,2])])\n",
        "    y_st += y_gap\n",
        "    y_ed += y_gap"
      ]
    },
    {
      "cell_type": "code",
      "execution_count": 93,
      "metadata": {
        "colab": {
          "base_uri": "https://localhost:8080/",
          "height": 1000
        },
        "id": "wiRpIBQA0qxB",
        "outputId": "6c1fb14c-8a8f-4335-8973-a2405b181d7e"
      },
      "outputs": [
        {
          "output_type": "stream",
          "name": "stdout",
          "text": [
            "['20220618233559_1.jpg', '20220618233600_1.jpg', '20220618233602_1.jpg', '20220618233604_1.jpg', '20220618233616_1.jpg']\n"
          ]
        },
        {
          "output_type": "display_data",
          "data": {
            "text/plain": [
              "<PIL.Image.Image image mode=RGB size=52x57 at 0x7F40948CAA10>"
            ],
            "image/png": "[encoded data removed]"
          },
          "metadata": {}
        },
        {
          "output_type": "stream",
          "name": "stdout",
          "text": [
            "13146.775041811585\n",
            "0\n"
          ]
        },
        {
          "output_type": "display_data",
          "data": {
            "text/plain": [
              "<PIL.Image.Image image mode=RGB size=52x57 at 0x7F40948C2A90>"
            ],
            "image/png": "[encoded data removed]"
          },
          "metadata": {}
        },
        {
          "output_type": "stream",
          "name": "stdout",
          "text": [
            "15647.220487997221\n",
            "1\n"
          ]
        },
        {
          "output_type": "display_data",
          "data": {
            "text/plain": [
              "<PIL.Image.Image image mode=RGB size=52x57 at 0x7F40948CAED0>"
            ],
            "image/png": "[encoded data removed]"
          },
          "metadata": {}
        },
        {
          "output_type": "stream",
          "name": "stdout",
          "text": [
            "11385.04440044043\n",
            "2\n"
          ]
        },
        {
          "output_type": "display_data",
          "data": {
            "text/plain": [
              "<PIL.Image.Image image mode=RGB size=52x57 at 0x7F405E14EA50>"
            ],
            "image/png": "[encoded data removed]"
          },
          "metadata": {}
        },
        {
          "output_type": "stream",
          "name": "stdout",
          "text": [
            "8431.355110538281\n",
            "3\n"
          ]
        },
        {
          "output_type": "display_data",
          "data": {
            "text/plain": [
              "<PIL.Image.Image image mode=RGB size=52x57 at 0x7F405E14EA50>"
            ],
            "image/png": "[encoded data removed]"
          },
          "metadata": {}
        },
        {
          "output_type": "stream",
          "name": "stdout",
          "text": [
            "8138.376865198613\n",
            "4\n"
          ]
        },
        {
          "output_type": "display_data",
          "data": {
            "text/plain": [
              "<PIL.Image.Image image mode=RGB size=52x57 at 0x7F405E080DD0>"
            ],
            "image/png": "[encoded data removed]"
          },
          "metadata": {}
        },
        {
          "output_type": "stream",
          "name": "stdout",
          "text": [
            "7079.892725175997\n",
            "5\n"
          ]
        },
        {
          "output_type": "display_data",
          "data": {
            "text/plain": [
              "<PIL.Image.Image image mode=RGB size=52x57 at 0x7F40948CAA90>"
            ],
            "image/png": "[encoded data removed]"
          },
          "metadata": {}
        },
        {
          "output_type": "stream",
          "name": "stdout",
          "text": [
            "7717.5779231569795\n",
            "6\n"
          ]
        },
        {
          "output_type": "display_data",
          "data": {
            "text/plain": [
              "<PIL.Image.Image image mode=RGB size=52x57 at 0x7F405E080DD0>"
            ],
            "image/png": "[encoded data removed]"
          },
          "metadata": {}
        },
        {
          "output_type": "stream",
          "name": "stdout",
          "text": [
            "992.4419378482552\n",
            "7\n"
          ]
        },
        {
          "output_type": "display_data",
          "data": {
            "text/plain": [
              "<PIL.Image.Image image mode=RGB size=52x57 at 0x7F405E032BD0>"
            ],
            "image/png": "[encoded data removed]"
          },
          "metadata": {}
        },
        {
          "output_type": "stream",
          "name": "stdout",
          "text": [
            "2428.1863602285553\n",
            "8\n"
          ]
        },
        {
          "output_type": "display_data",
          "data": {
            "text/plain": [
              "<PIL.Image.Image image mode=RGB size=52x57 at 0x7F405E032210>"
            ],
            "image/png": "[encoded data removed]"
          },
          "metadata": {}
        },
        {
          "output_type": "stream",
          "name": "stdout",
          "text": [
            "12071.724359013504\n",
            "9\n"
          ]
        },
        {
          "output_type": "display_data",
          "data": {
            "text/plain": [
              "<PIL.Image.Image image mode=L size=28x28 at 0x7F409532D150>"
            ],
            "image/png": "[encoded data removed]"
          },
          "metadata": {}
        },
        {
          "output_type": "stream",
          "name": "stdout",
          "text": [
            "\n",
            "[1]\n"
          ]
        },
        {
          "output_type": "stream",
          "name": "stderr",
          "text": [
            "/usr/local/lib/python3.7/dist-packages/torch/nn/functional.py:1320: UserWarning: dropout2d: Received a 2-D input to dropout2d, which is deprecated and will result in an error in a future release. To retain the behavior and silence this warning, please use dropout instead. Note that dropout2d exists to provide channel-wise dropout on inputs with 2 spatial dimensions, a channel dimension, and an optional batch dimension (i.e. 3D or 4D inputs).\n",
            "  warnings.warn(warn_msg)\n",
            "/usr/local/lib/python3.7/dist-packages/ipykernel_launcher.py:40: UserWarning: Implicit dimension choice for log_softmax has been deprecated. Change the call to include dim=X as an argument.\n"
          ]
        },
        {
          "output_type": "display_data",
          "data": {
            "text/plain": [
              "<PIL.Image.Image image mode=L size=28x28 at 0x7F40948CAA10>"
            ],
            "image/png": "[encoded data removed]"
          },
          "metadata": {}
        },
        {
          "output_type": "stream",
          "name": "stdout",
          "text": [
            "\n",
            "[1]\n"
          ]
        },
        {
          "output_type": "display_data",
          "data": {
            "text/plain": [
              "<PIL.Image.Image image mode=L size=28x28 at 0x7F40948CAAD0>"
            ],
            "image/png": "[encoded data removed]"
          },
          "metadata": {}
        },
        {
          "output_type": "stream",
          "name": "stdout",
          "text": [
            "\n",
            "[5]\n"
          ]
        },
        {
          "output_type": "display_data",
          "data": {
            "text/plain": [
              "<PIL.Image.Image image mode=L size=28x28 at 0x7F40948CA6D0>"
            ],
            "image/png": "[encoded data removed]"
          },
          "metadata": {}
        },
        {
          "output_type": "stream",
          "name": "stdout",
          "text": [
            "\n",
            "[5]\n"
          ]
        },
        {
          "output_type": "display_data",
          "data": {
            "text/plain": [
              "<PIL.Image.Image image mode=L size=28x28 at 0x7F40948CA190>"
            ],
            "image/png": "[encoded data removed]"
          },
          "metadata": {}
        },
        {
          "output_type": "stream",
          "name": "stdout",
          "text": [
            "\n",
            "[9]\n"
          ]
        },
        {
          "output_type": "display_data",
          "data": {
            "text/plain": [
              "<PIL.Image.Image image mode=L size=28x28 at 0x7F40948CAA10>"
            ],
            "image/png": "[encoded data removed]"
          },
          "metadata": {}
        },
        {
          "output_type": "stream",
          "name": "stdout",
          "text": [
            "\n"
          ]
        },
        {
          "output_type": "display_data",
          "data": {
            "text/plain": [
              "<PIL.Image.Image image mode=L size=28x28 at 0x7F40948CAED0>"
            ],
            "image/png": "[encoded data removed]"
          },
          "metadata": {}
        },
        {
          "output_type": "stream",
          "name": "stdout",
          "text": [
            "\n",
            "[2, 2]\n"
          ]
        },
        {
          "output_type": "display_data",
          "data": {
            "text/plain": [
              "<PIL.Image.Image image mode=L size=28x28 at 0x7F405E032090>"
            ],
            "image/png": "[encoded data removed]"
          },
          "metadata": {}
        },
        {
          "output_type": "stream",
          "name": "stdout",
          "text": [
            "\n",
            "[9]\n"
          ]
        },
        {
          "output_type": "display_data",
          "data": {
            "text/plain": [
              "<PIL.Image.Image image mode=L size=28x28 at 0x7F405E032090>"
            ],
            "image/png": "[encoded data removed]"
          },
          "metadata": {}
        },
        {
          "output_type": "stream",
          "name": "stdout",
          "text": [
            "\n"
          ]
        },
        {
          "output_type": "display_data",
          "data": {
            "text/plain": [
              "<PIL.Image.Image image mode=L size=28x28 at 0x7F405E032BD0>"
            ],
            "image/png": "[encoded data removed]"
          },
          "metadata": {}
        },
        {
          "output_type": "stream",
          "name": "stdout",
          "text": [
            "\n"
          ]
        },
        {
          "output_type": "display_data",
          "data": {
            "text/plain": [
              "<PIL.Image.Image image mode=L size=28x28 at 0x7F405E032F90>"
            ],
            "image/png": "[encoded data removed]"
          },
          "metadata": {}
        },
        {
          "output_type": "stream",
          "name": "stdout",
          "text": [
            "\n",
            "[9, 0, 1]\n"
          ]
        },
        {
          "output_type": "display_data",
          "data": {
            "text/plain": [
              "<PIL.Image.Image image mode=L size=28x28 at 0x7F405E032450>"
            ],
            "image/png": "[encoded data removed]"
          },
          "metadata": {}
        },
        {
          "output_type": "stream",
          "name": "stdout",
          "text": [
            "\n"
          ]
        },
        {
          "output_type": "display_data",
          "data": {
            "text/plain": [
              "<PIL.Image.Image image mode=L size=28x28 at 0x7F405E032150>"
            ],
            "image/png": "[encoded data removed]"
          },
          "metadata": {}
        },
        {
          "output_type": "stream",
          "name": "stdout",
          "text": [
            "\n"
          ]
        },
        {
          "output_type": "display_data",
          "data": {
            "text/plain": [
              "<PIL.Image.Image image mode=L size=28x28 at 0x7F405E032DD0>"
            ],
            "image/png": "[encoded data removed]"
          },
          "metadata": {}
        },
        {
          "output_type": "stream",
          "name": "stdout",
          "text": [
            "\n",
            "[0, 0, 2]\n"
          ]
        },
        {
          "output_type": "display_data",
          "data": {
            "text/plain": [
              "<PIL.Image.Image image mode=L size=28x28 at 0x7F405E032F10>"
            ],
            "image/png": "[encoded data removed]"
          },
          "metadata": {}
        },
        {
          "output_type": "stream",
          "name": "stdout",
          "text": [
            "\n"
          ]
        },
        {
          "output_type": "display_data",
          "data": {
            "text/plain": [
              "<PIL.Image.Image image mode=L size=28x28 at 0x7F405E032D50>"
            ],
            "image/png": "[encoded data removed]"
          },
          "metadata": {}
        },
        {
          "output_type": "stream",
          "name": "stdout",
          "text": [
            "\n",
            "[9, 6]\n"
          ]
        },
        {
          "output_type": "display_data",
          "data": {
            "text/plain": [
              "<PIL.Image.Image image mode=RGB size=52x57 at 0x7F405E0D7650>"
            ],
            "image/png": "[encoded data removed]"
          },
          "metadata": {}
        },
        {
          "output_type": "stream",
          "name": "stdout",
          "text": [
            "18146.487098058402\n",
            "10\n"
          ]
        },
        {
          "output_type": "display_data",
          "data": {
            "text/plain": [
              "<PIL.Image.Image image mode=RGB size=52x57 at 0x7F405E0C37D0>"
            ],
            "image/png": "[encoded data removed]"
          },
          "metadata": {}
        },
        {
          "output_type": "stream",
          "name": "stdout",
          "text": [
            "17902.620450649116\n",
            "11\n"
          ]
        },
        {
          "output_type": "display_data",
          "data": {
            "text/plain": [
              "<PIL.Image.Image image mode=RGB size=52x57 at 0x7F40948C3390>"
            ],
            "image/png": "[encoded data removed]"
          },
          "metadata": {}
        },
        {
          "output_type": "stream",
          "name": "stdout",
          "text": [
            "13067.828664319104\n",
            "12\n"
          ]
        },
        {
          "output_type": "display_data",
          "data": {
            "text/plain": [
              "<PIL.Image.Image image mode=RGB size=52x57 at 0x7F40948C3A90>"
            ],
            "image/png": "[encoded data removed]"
          },
          "metadata": {}
        },
        {
          "output_type": "stream",
          "name": "stdout",
          "text": [
            "16028.94675267218\n",
            "13\n"
          ]
        },
        {
          "output_type": "display_data",
          "data": {
            "text/plain": [
              "<PIL.Image.Image image mode=RGB size=52x57 at 0x7F40948C3A10>"
            ],
            "image/png": "[encoded data removed]"
          },
          "metadata": {}
        },
        {
          "output_type": "stream",
          "name": "stdout",
          "text": [
            "13103.019728291643\n",
            "14\n"
          ]
        },
        {
          "output_type": "display_data",
          "data": {
            "text/plain": [
              "<PIL.Image.Image image mode=RGB size=52x57 at 0x7F40948C3B50>"
            ],
            "image/png": "[encoded data removed]"
          },
          "metadata": {}
        },
        {
          "output_type": "stream",
          "name": "stdout",
          "text": [
            "11243.861614232008\n",
            "15\n"
          ]
        },
        {
          "output_type": "display_data",
          "data": {
            "text/plain": [
              "<PIL.Image.Image image mode=RGB size=52x57 at 0x7F405E0C3890>"
            ],
            "image/png": "[encoded data removed]"
          },
          "metadata": {}
        },
        {
          "output_type": "stream",
          "name": "stdout",
          "text": [
            "6484.472376377279\n",
            "16\n"
          ]
        },
        {
          "output_type": "display_data",
          "data": {
            "text/plain": [
              "<PIL.Image.Image image mode=RGB size=52x57 at 0x7F405E01E8D0>"
            ],
            "image/png": "[encoded data removed]"
          },
          "metadata": {}
        },
        {
          "output_type": "stream",
          "name": "stdout",
          "text": [
            "884.0237553369253\n",
            "17\n"
          ]
        },
        {
          "output_type": "display_data",
          "data": {
            "text/plain": [
              "<PIL.Image.Image image mode=RGB size=52x57 at 0x7F40948CA610>"
            ],
            "image/png": "[encoded data removed]"
          },
          "metadata": {}
        },
        {
          "output_type": "stream",
          "name": "stdout",
          "text": [
            "8306.24114747459\n",
            "20\n"
          ]
        },
        {
          "output_type": "display_data",
          "data": {
            "text/plain": [
              "<PIL.Image.Image image mode=RGB size=52x57 at 0x7F40948C3550>"
            ],
            "image/png": "[encoded data removed]"
          },
          "metadata": {}
        },
        {
          "output_type": "stream",
          "name": "stdout",
          "text": [
            "6239.4347500394615\n",
            "19\n"
          ]
        },
        {
          "output_type": "display_data",
          "data": {
            "text/plain": [
              "<PIL.Image.Image image mode=L size=28x28 at 0x7F405E14EA10>"
            ],
            "image/png": "[encoded data removed]"
          },
          "metadata": {}
        },
        {
          "output_type": "stream",
          "name": "stdout",
          "text": [
            "\n"
          ]
        },
        {
          "output_type": "display_data",
          "data": {
            "text/plain": [
              "<PIL.Image.Image image mode=L size=28x28 at 0x7F405E0C39D0>"
            ],
            "image/png": "[encoded data removed]"
          },
          "metadata": {}
        },
        {
          "output_type": "stream",
          "name": "stdout",
          "text": [
            "\n",
            "[1, 9]\n"
          ]
        },
        {
          "output_type": "display_data",
          "data": {
            "text/plain": [
              "<PIL.Image.Image image mode=L size=28x28 at 0x7F409532D0D0>"
            ],
            "image/png": "[encoded data removed]"
          },
          "metadata": {}
        },
        {
          "output_type": "stream",
          "name": "stdout",
          "text": [
            "\n",
            "[5]\n"
          ]
        },
        {
          "output_type": "display_data",
          "data": {
            "text/plain": [
              "<PIL.Image.Image image mode=L size=28x28 at 0x7F40948CA8D0>"
            ],
            "image/png": "[encoded data removed]"
          },
          "metadata": {}
        },
        {
          "output_type": "stream",
          "name": "stdout",
          "text": [
            "\n",
            "[9]\n"
          ]
        },
        {
          "output_type": "display_data",
          "data": {
            "text/plain": [
              "<PIL.Image.Image image mode=L size=28x28 at 0x7F40948CAE10>"
            ],
            "image/png": "[encoded data removed]"
          },
          "metadata": {}
        },
        {
          "output_type": "stream",
          "name": "stdout",
          "text": [
            "\n"
          ]
        },
        {
          "output_type": "display_data",
          "data": {
            "text/plain": [
              "<PIL.Image.Image image mode=L size=28x28 at 0x7F40948CAF90>"
            ],
            "image/png": "[encoded data removed]"
          },
          "metadata": {}
        },
        {
          "output_type": "stream",
          "name": "stdout",
          "text": [
            "\n",
            "[4, 1]\n"
          ]
        },
        {
          "output_type": "display_data",
          "data": {
            "text/plain": [
              "<PIL.Image.Image image mode=L size=28x28 at 0x7F40948C3490>"
            ],
            "image/png": "[encoded data removed]"
          },
          "metadata": {}
        },
        {
          "output_type": "stream",
          "name": "stdout",
          "text": [
            "\n"
          ]
        },
        {
          "output_type": "display_data",
          "data": {
            "text/plain": [
              "<PIL.Image.Image image mode=L size=28x28 at 0x7F40948C3B50>"
            ],
            "image/png": "[encoded data removed]"
          },
          "metadata": {}
        },
        {
          "output_type": "stream",
          "name": "stdout",
          "text": [
            "\n"
          ]
        },
        {
          "output_type": "display_data",
          "data": {
            "text/plain": [
              "<PIL.Image.Image image mode=L size=28x28 at 0x7F40948CA590>"
            ],
            "image/png": "[encoded data removed]"
          },
          "metadata": {}
        },
        {
          "output_type": "stream",
          "name": "stdout",
          "text": [
            "\n",
            "[2, 1, 2]\n"
          ]
        },
        {
          "output_type": "display_data",
          "data": {
            "text/plain": [
              "<PIL.Image.Image image mode=L size=28x28 at 0x7F40948CAE10>"
            ],
            "image/png": "[encoded data removed]"
          },
          "metadata": {}
        },
        {
          "output_type": "stream",
          "name": "stdout",
          "text": [
            "\n"
          ]
        },
        {
          "output_type": "display_data",
          "data": {
            "text/plain": [
              "<PIL.Image.Image image mode=L size=28x28 at 0x7F409531FB10>"
            ],
            "image/png": "[encoded data removed]"
          },
          "metadata": {}
        },
        {
          "output_type": "stream",
          "name": "stdout",
          "text": [
            "\n",
            "[0, 2]\n"
          ]
        },
        {
          "output_type": "display_data",
          "data": {
            "text/plain": [
              "<PIL.Image.Image image mode=L size=28x28 at 0x7F409546ECD0>"
            ],
            "image/png": "[encoded data removed]"
          },
          "metadata": {}
        },
        {
          "output_type": "stream",
          "name": "stdout",
          "text": [
            "\n"
          ]
        },
        {
          "output_type": "display_data",
          "data": {
            "text/plain": [
              "<PIL.Image.Image image mode=L size=28x28 at 0x7F40948CAF90>"
            ],
            "image/png": "[encoded data removed]"
          },
          "metadata": {}
        },
        {
          "output_type": "stream",
          "name": "stdout",
          "text": [
            "\n"
          ]
        },
        {
          "output_type": "display_data",
          "data": {
            "text/plain": [
              "<PIL.Image.Image image mode=L size=28x28 at 0x7F409531F290>"
            ],
            "image/png": "[encoded data removed]"
          },
          "metadata": {}
        },
        {
          "output_type": "stream",
          "name": "stdout",
          "text": [
            "\n",
            "[0, 2, 4]\n"
          ]
        },
        {
          "output_type": "display_data",
          "data": {
            "text/plain": [
              "<PIL.Image.Image image mode=L size=28x28 at 0x7F40948CA190>"
            ],
            "image/png": "[encoded data removed]"
          },
          "metadata": {}
        },
        {
          "output_type": "stream",
          "name": "stdout",
          "text": [
            "\n"
          ]
        },
        {
          "output_type": "display_data",
          "data": {
            "text/plain": [
              "<PIL.Image.Image image mode=L size=28x28 at 0x7F40948B6690>"
            ],
            "image/png": "[encoded data removed]"
          },
          "metadata": {}
        },
        {
          "output_type": "stream",
          "name": "stdout",
          "text": [
            "\n",
            "[6, 3]\n"
          ]
        },
        {
          "output_type": "display_data",
          "data": {
            "text/plain": [
              "<PIL.Image.Image image mode=L size=28x28 at 0x7F409531FB10>"
            ],
            "image/png": "[encoded data removed]"
          },
          "metadata": {}
        },
        {
          "output_type": "stream",
          "name": "stdout",
          "text": [
            "\n"
          ]
        },
        {
          "output_type": "display_data",
          "data": {
            "text/plain": [
              "<PIL.Image.Image image mode=L size=28x28 at 0x7F409531FDD0>"
            ],
            "image/png": "[encoded data removed]"
          },
          "metadata": {}
        },
        {
          "output_type": "stream",
          "name": "stdout",
          "text": [
            "\n",
            "[6, 8]\n"
          ]
        },
        {
          "output_type": "display_data",
          "data": {
            "text/plain": [
              "<PIL.Image.Image image mode=L size=28x28 at 0x7F405E032450>"
            ],
            "image/png": "[encoded data removed]"
          },
          "metadata": {}
        },
        {
          "output_type": "stream",
          "name": "stdout",
          "text": [
            "\n"
          ]
        },
        {
          "output_type": "display_data",
          "data": {
            "text/plain": [
              "<PIL.Image.Image image mode=L size=28x28 at 0x7F409531F550>"
            ],
            "image/png": "[encoded data removed]"
          },
          "metadata": {}
        },
        {
          "output_type": "stream",
          "name": "stdout",
          "text": [
            "\n"
          ]
        },
        {
          "output_type": "display_data",
          "data": {
            "text/plain": [
              "<PIL.Image.Image image mode=L size=28x28 at 0x7F409531F290>"
            ],
            "image/png": "[encoded data removed]"
          },
          "metadata": {}
        },
        {
          "output_type": "stream",
          "name": "stdout",
          "text": [
            "\n",
            "[1, 6, 1]\n"
          ]
        },
        {
          "output_type": "display_data",
          "data": {
            "text/plain": [
              "<PIL.Image.Image image mode=RGB size=52x57 at 0x7F405E0C36D0>"
            ],
            "image/png": "[encoded data removed]"
          },
          "metadata": {}
        },
        {
          "output_type": "stream",
          "name": "stdout",
          "text": [
            "3442.5478936392446\n",
            "18\n"
          ]
        },
        {
          "output_type": "display_data",
          "data": {
            "text/plain": [
              "<PIL.Image.Image image mode=RGB size=52x57 at 0x7F40948CA590>"
            ],
            "image/png": "[encoded data removed]"
          },
          "metadata": {}
        },
        {
          "output_type": "stream",
          "name": "stdout",
          "text": [
            "10377.760692943348\n",
            "21\n"
          ]
        },
        {
          "output_type": "display_data",
          "data": {
            "text/plain": [
              "<PIL.Image.Image image mode=RGB size=52x57 at 0x7F409546EC10>"
            ],
            "image/png": "[encoded data removed]"
          },
          "metadata": {}
        },
        {
          "output_type": "stream",
          "name": "stdout",
          "text": [
            "42189.233567345116\n",
            "20\n"
          ]
        },
        {
          "output_type": "display_data",
          "data": {
            "text/plain": [
              "<PIL.Image.Image image mode=RGB size=52x57 at 0x7F40948CA190>"
            ],
            "image/png": "[encoded data removed]"
          },
          "metadata": {}
        },
        {
          "output_type": "stream",
          "name": "stdout",
          "text": [
            "42582.325194850506\n",
            "22\n"
          ]
        },
        {
          "output_type": "display_data",
          "data": {
            "text/plain": [
              "<PIL.Image.Image image mode=RGB size=52x57 at 0x7F405E032250>"
            ],
            "image/png": "[encoded data removed]"
          },
          "metadata": {}
        },
        {
          "output_type": "stream",
          "name": "stdout",
          "text": [
            "11327.04996899016\n",
            "22\n"
          ]
        },
        {
          "output_type": "display_data",
          "data": {
            "text/plain": [
              "<PIL.Image.Image image mode=RGB size=52x57 at 0x7F409532D150>"
            ],
            "image/png": "[encoded data removed]"
          },
          "metadata": {}
        },
        {
          "output_type": "stream",
          "name": "stdout",
          "text": [
            "8115.648218103099\n",
            "23\n"
          ]
        },
        {
          "output_type": "display_data",
          "data": {
            "text/plain": [
              "<PIL.Image.Image image mode=RGB size=52x57 at 0x7F40948CA0D0>"
            ],
            "image/png": "[encoded data removed]"
          },
          "metadata": {}
        },
        {
          "output_type": "stream",
          "name": "stdout",
          "text": [
            "19325.858350924547\n",
            "25\n"
          ]
        },
        {
          "output_type": "display_data",
          "data": {
            "text/plain": [
              "<PIL.Image.Image image mode=RGB size=52x57 at 0x7F409531F550>"
            ],
            "image/png": "[encoded data removed]"
          },
          "metadata": {}
        },
        {
          "output_type": "stream",
          "name": "stdout",
          "text": [
            "17604.07236976717\n",
            "25\n"
          ]
        },
        {
          "output_type": "display_data",
          "data": {
            "text/plain": [
              "<PIL.Image.Image image mode=RGB size=52x57 at 0x7F405E080DD0>"
            ],
            "image/png": "[encoded data removed]"
          },
          "metadata": {}
        },
        {
          "output_type": "stream",
          "name": "stdout",
          "text": [
            "2042.7669960130058\n",
            "24\n"
          ]
        },
        {
          "output_type": "display_data",
          "data": {
            "text/plain": [
              "<PIL.Image.Image image mode=RGB size=52x57 at 0x7F405E0C3FD0>"
            ],
            "image/png": "[encoded data removed]"
          },
          "metadata": {}
        },
        {
          "output_type": "stream",
          "name": "stdout",
          "text": [
            "37971.76178425225\n",
            "24\n"
          ]
        },
        {
          "output_type": "display_data",
          "data": {
            "text/plain": [
              "<PIL.Image.Image image mode=L size=28x28 at 0x7F40948C3190>"
            ],
            "image/png": "[encoded data removed]"
          },
          "metadata": {}
        },
        {
          "output_type": "stream",
          "name": "stdout",
          "text": [
            "\n"
          ]
        },
        {
          "output_type": "display_data",
          "data": {
            "text/plain": [
              "<PIL.Image.Image image mode=L size=28x28 at 0x7F40948C3490>"
            ],
            "image/png": "[encoded data removed]"
          },
          "metadata": {}
        },
        {
          "output_type": "stream",
          "name": "stdout",
          "text": [
            "\n"
          ]
        },
        {
          "output_type": "display_data",
          "data": {
            "text/plain": [
              "<PIL.Image.Image image mode=L size=28x28 at 0x7F40948C3550>"
            ],
            "image/png": "[encoded data removed]"
          },
          "metadata": {}
        },
        {
          "output_type": "stream",
          "name": "stdout",
          "text": [
            "\n",
            "[9, 7, 1]\n"
          ]
        },
        {
          "output_type": "display_data",
          "data": {
            "text/plain": [
              "<PIL.Image.Image image mode=L size=28x28 at 0x7F40948C3A90>"
            ],
            "image/png": "[encoded data removed]"
          },
          "metadata": {}
        },
        {
          "output_type": "stream",
          "name": "stdout",
          "text": [
            "\n",
            "[5]\n"
          ]
        },
        {
          "output_type": "display_data",
          "data": {
            "text/plain": [
              "<PIL.Image.Image image mode=L size=28x28 at 0x7F405E0C3590>"
            ],
            "image/png": "[encoded data removed]"
          },
          "metadata": {}
        },
        {
          "output_type": "stream",
          "name": "stdout",
          "text": [
            "\n"
          ]
        },
        {
          "output_type": "display_data",
          "data": {
            "text/plain": [
              "<PIL.Image.Image image mode=L size=28x28 at 0x7F40948C3550>"
            ],
            "image/png": "[encoded data removed]"
          },
          "metadata": {}
        },
        {
          "output_type": "stream",
          "name": "stdout",
          "text": [
            "\n",
            "[8, 5]\n"
          ]
        },
        {
          "output_type": "display_data",
          "data": {
            "text/plain": [
              "<PIL.Image.Image image mode=L size=28x28 at 0x7F409531F5D0>"
            ],
            "image/png": "[encoded data removed]"
          },
          "metadata": {}
        },
        {
          "output_type": "stream",
          "name": "stdout",
          "text": [
            "\n"
          ]
        },
        {
          "output_type": "display_data",
          "data": {
            "text/plain": [
              "<PIL.Image.Image image mode=L size=28x28 at 0x7F40948B6C50>"
            ],
            "image/png": "[encoded data removed]"
          },
          "metadata": {}
        },
        {
          "output_type": "stream",
          "name": "stdout",
          "text": [
            "\n"
          ]
        },
        {
          "output_type": "display_data",
          "data": {
            "text/plain": [
              "<PIL.Image.Image image mode=L size=28x28 at 0x7F405E0C3890>"
            ],
            "image/png": "[encoded data removed]"
          },
          "metadata": {}
        },
        {
          "output_type": "stream",
          "name": "stdout",
          "text": [
            "\n",
            "[0, 9, 1]\n"
          ]
        },
        {
          "output_type": "display_data",
          "data": {
            "text/plain": [
              "<PIL.Image.Image image mode=L size=28x28 at 0x7F405E0C36D0>"
            ],
            "image/png": "[encoded data removed]"
          },
          "metadata": {}
        },
        {
          "output_type": "stream",
          "name": "stdout",
          "text": [
            "\n"
          ]
        },
        {
          "output_type": "display_data",
          "data": {
            "text/plain": [
              "<PIL.Image.Image image mode=L size=28x28 at 0x7F405E0C39D0>"
            ],
            "image/png": "[encoded data removed]"
          },
          "metadata": {}
        },
        {
          "output_type": "stream",
          "name": "stdout",
          "text": [
            "\n"
          ]
        },
        {
          "output_type": "display_data",
          "data": {
            "text/plain": [
              "<PIL.Image.Image image mode=L size=28x28 at 0x7F40948C3550>"
            ],
            "image/png": "[encoded data removed]"
          },
          "metadata": {}
        },
        {
          "output_type": "stream",
          "name": "stdout",
          "text": [
            "\n",
            "[5, 5, 3]\n"
          ]
        },
        {
          "output_type": "display_data",
          "data": {
            "text/plain": [
              "<PIL.Image.Image image mode=L size=28x28 at 0x7F405E0C3410>"
            ],
            "image/png": "[encoded data removed]"
          },
          "metadata": {}
        },
        {
          "output_type": "stream",
          "name": "stdout",
          "text": [
            "\n",
            "[9]\n"
          ]
        },
        {
          "output_type": "display_data",
          "data": {
            "text/plain": [
              "<PIL.Image.Image image mode=L size=28x28 at 0x7F405E0C35D0>"
            ],
            "image/png": "[encoded data removed]"
          },
          "metadata": {}
        },
        {
          "output_type": "stream",
          "name": "stdout",
          "text": [
            "\n"
          ]
        },
        {
          "output_type": "display_data",
          "data": {
            "text/plain": [
              "<PIL.Image.Image image mode=L size=28x28 at 0x7F405E0C3890>"
            ],
            "image/png": "[encoded data removed]"
          },
          "metadata": {}
        },
        {
          "output_type": "stream",
          "name": "stdout",
          "text": [
            "\n",
            "[7, 4]\n"
          ]
        },
        {
          "output_type": "display_data",
          "data": {
            "text/plain": [
              "<PIL.Image.Image image mode=L size=28x28 at 0x7F405E01E8D0>"
            ],
            "image/png": "[encoded data removed]"
          },
          "metadata": {}
        },
        {
          "output_type": "stream",
          "name": "stdout",
          "text": [
            "\n"
          ]
        },
        {
          "output_type": "display_data",
          "data": {
            "text/plain": [
              "<PIL.Image.Image image mode=L size=28x28 at 0x7F40948CAE10>"
            ],
            "image/png": "[encoded data removed]"
          },
          "metadata": {}
        },
        {
          "output_type": "stream",
          "name": "stdout",
          "text": [
            "\n"
          ]
        },
        {
          "output_type": "display_data",
          "data": {
            "text/plain": [
              "<PIL.Image.Image image mode=L size=28x28 at 0x7F405E0D7CD0>"
            ],
            "image/png": "[encoded data removed]"
          },
          "metadata": {}
        },
        {
          "output_type": "stream",
          "name": "stdout",
          "text": [
            "\n",
            "[0, 6, 1]\n"
          ]
        },
        {
          "output_type": "display_data",
          "data": {
            "text/plain": [
              "<PIL.Image.Image image mode=L size=28x28 at 0x7F405E0C39D0>"
            ],
            "image/png": "[encoded data removed]"
          },
          "metadata": {}
        },
        {
          "output_type": "stream",
          "name": "stdout",
          "text": [
            "\n"
          ]
        },
        {
          "output_type": "display_data",
          "data": {
            "text/plain": [
              "<PIL.Image.Image image mode=L size=28x28 at 0x7F405E0C3890>"
            ],
            "image/png": "[encoded data removed]"
          },
          "metadata": {}
        },
        {
          "output_type": "stream",
          "name": "stdout",
          "text": [
            "\n"
          ]
        },
        {
          "output_type": "display_data",
          "data": {
            "text/plain": [
              "<PIL.Image.Image image mode=L size=28x28 at 0x7F405E0C3690>"
            ],
            "image/png": "[encoded data removed]"
          },
          "metadata": {}
        },
        {
          "output_type": "stream",
          "name": "stdout",
          "text": [
            "\n",
            "[2, 5, 6]\n"
          ]
        },
        {
          "output_type": "display_data",
          "data": {
            "text/plain": [
              "<PIL.Image.Image image mode=L size=28x28 at 0x7F40948CAED0>"
            ],
            "image/png": "[encoded data removed]"
          },
          "metadata": {}
        },
        {
          "output_type": "stream",
          "name": "stdout",
          "text": [
            "\n"
          ]
        },
        {
          "output_type": "display_data",
          "data": {
            "text/plain": [
              "<PIL.Image.Image image mode=L size=28x28 at 0x7F40948CA590>"
            ],
            "image/png": "[encoded data removed]"
          },
          "metadata": {}
        },
        {
          "output_type": "stream",
          "name": "stdout",
          "text": [
            "\n"
          ]
        },
        {
          "output_type": "display_data",
          "data": {
            "text/plain": [
              "<PIL.Image.Image image mode=L size=28x28 at 0x7F405E032150>"
            ],
            "image/png": "[encoded data removed]"
          },
          "metadata": {}
        },
        {
          "output_type": "stream",
          "name": "stdout",
          "text": [
            "\n",
            "[8, 4, 1]\n"
          ]
        },
        {
          "output_type": "display_data",
          "data": {
            "text/plain": [
              "<PIL.Image.Image image mode=RGB size=52x57 at 0x7F40948C2A90>"
            ],
            "image/png": "[encoded data removed]"
          },
          "metadata": {}
        },
        {
          "output_type": "stream",
          "name": "stdout",
          "text": [
            "40963.59116337336\n",
            "1\n"
          ]
        },
        {
          "output_type": "display_data",
          "data": {
            "text/plain": [
              "<PIL.Image.Image image mode=RGB size=52x57 at 0x7F405E0447D0>"
            ],
            "image/png": "[encoded data removed]"
          },
          "metadata": {}
        },
        {
          "output_type": "stream",
          "name": "stdout",
          "text": [
            "3911.180895842073\n",
            "25\n"
          ]
        },
        {
          "output_type": "display_data",
          "data": {
            "text/plain": [
              "<PIL.Image.Image image mode=RGB size=52x57 at 0x7F405E0447D0>"
            ],
            "image/png": "[encoded data removed]"
          },
          "metadata": {}
        },
        {
          "output_type": "stream",
          "name": "stdout",
          "text": [
            "7921.116714201351\n",
            "26\n"
          ]
        },
        {
          "output_type": "display_data",
          "data": {
            "text/plain": [
              "<PIL.Image.Image image mode=RGB size=52x57 at 0x7F405E044A90>"
            ],
            "image/png": "[encoded data removed]"
          },
          "metadata": {}
        },
        {
          "output_type": "stream",
          "name": "stdout",
          "text": [
            "38615.6660696148\n",
            "24\n"
          ]
        },
        {
          "output_type": "display_data",
          "data": {
            "text/plain": [
              "<PIL.Image.Image image mode=RGB size=52x57 at 0x7F405E044450>"
            ],
            "image/png": "[encoded data removed]"
          },
          "metadata": {}
        },
        {
          "output_type": "stream",
          "name": "stdout",
          "text": [
            "39284.551289279094\n",
            "22\n"
          ]
        },
        {
          "output_type": "display_data",
          "data": {
            "text/plain": [
              "<PIL.Image.Image image mode=RGB size=52x57 at 0x7F405E044A50>"
            ],
            "image/png": "[encoded data removed]"
          },
          "metadata": {}
        },
        {
          "output_type": "stream",
          "name": "stdout",
          "text": [
            "35554.33524902413\n",
            "22\n"
          ]
        },
        {
          "output_type": "display_data",
          "data": {
            "text/plain": [
              "<PIL.Image.Image image mode=RGB size=52x57 at 0x7F405E044890>"
            ],
            "image/png": "[encoded data removed]"
          },
          "metadata": {}
        },
        {
          "output_type": "stream",
          "name": "stdout",
          "text": [
            "97145.16785718166\n",
            "6\n"
          ]
        },
        {
          "output_type": "display_data",
          "data": {
            "text/plain": [
              "<PIL.Image.Image image mode=RGB size=52x57 at 0x7F405E0D22D0>"
            ],
            "image/png": "[encoded data removed]"
          },
          "metadata": {}
        },
        {
          "output_type": "stream",
          "name": "stdout",
          "text": [
            "94701.6238931519\n",
            "6\n"
          ]
        },
        {
          "output_type": "display_data",
          "data": {
            "text/plain": [
              "<PIL.Image.Image image mode=RGB size=52x57 at 0x7F405E044890>"
            ],
            "image/png": "[encoded data removed]"
          },
          "metadata": {}
        },
        {
          "output_type": "stream",
          "name": "stdout",
          "text": [
            "90132.1760194438\n",
            "6\n"
          ]
        },
        {
          "output_type": "display_data",
          "data": {
            "text/plain": [
              "<PIL.Image.Image image mode=RGB size=52x57 at 0x7F405E0441D0>"
            ],
            "image/png": "[encoded data removed]"
          },
          "metadata": {}
        },
        {
          "output_type": "stream",
          "name": "stdout",
          "text": [
            "87501.29032762889\n",
            "6\n"
          ]
        },
        {
          "output_type": "display_data",
          "data": {
            "text/plain": [
              "<PIL.Image.Image image mode=L size=28x28 at 0x7F405E080610>"
            ],
            "image/png": "[encoded data removed]"
          },
          "metadata": {}
        },
        {
          "output_type": "stream",
          "name": "stdout",
          "text": [
            "\n"
          ]
        },
        {
          "output_type": "display_data",
          "data": {
            "text/plain": [
              "<PIL.Image.Image image mode=L size=28x28 at 0x7F405E0D7650>"
            ],
            "image/png": "[encoded data removed]"
          },
          "metadata": {}
        },
        {
          "output_type": "stream",
          "name": "stdout",
          "text": [
            "\n"
          ]
        },
        {
          "output_type": "display_data",
          "data": {
            "text/plain": [
              "<PIL.Image.Image image mode=L size=28x28 at 0x7F405E01E290>"
            ],
            "image/png": "[encoded data removed]"
          },
          "metadata": {}
        },
        {
          "output_type": "stream",
          "name": "stdout",
          "text": [
            "\n",
            "[7, 8, 1]\n"
          ]
        },
        {
          "output_type": "display_data",
          "data": {
            "text/plain": [
              "<PIL.Image.Image image mode=L size=28x28 at 0x7F405E01E8D0>"
            ],
            "image/png": "[encoded data removed]"
          },
          "metadata": {}
        },
        {
          "output_type": "stream",
          "name": "stdout",
          "text": [
            "\n"
          ]
        },
        {
          "output_type": "display_data",
          "data": {
            "text/plain": [
              "<PIL.Image.Image image mode=L size=28x28 at 0x7F40948C3510>"
            ],
            "image/png": "[encoded data removed]"
          },
          "metadata": {}
        },
        {
          "output_type": "stream",
          "name": "stdout",
          "text": [
            "\n"
          ]
        },
        {
          "output_type": "display_data",
          "data": {
            "text/plain": [
              "<PIL.Image.Image image mode=L size=28x28 at 0x7F40948B6FD0>"
            ],
            "image/png": "[encoded data removed]"
          },
          "metadata": {}
        },
        {
          "output_type": "stream",
          "name": "stdout",
          "text": [
            "\n",
            "[0, 9, 2]\n"
          ]
        },
        {
          "output_type": "display_data",
          "data": {
            "text/plain": [
              "<PIL.Image.Image image mode=L size=28x28 at 0x7F40948C3390>"
            ],
            "image/png": "[encoded data removed]"
          },
          "metadata": {}
        },
        {
          "output_type": "stream",
          "name": "stdout",
          "text": [
            "\n"
          ]
        },
        {
          "output_type": "display_data",
          "data": {
            "text/plain": [
              "<PIL.Image.Image image mode=L size=28x28 at 0x7F405E0C35D0>"
            ],
            "image/png": "[encoded data removed]"
          },
          "metadata": {}
        },
        {
          "output_type": "stream",
          "name": "stdout",
          "text": [
            "\n"
          ]
        },
        {
          "output_type": "display_data",
          "data": {
            "text/plain": [
              "<PIL.Image.Image image mode=L size=28x28 at 0x7F405E0C37D0>"
            ],
            "image/png": "[encoded data removed]"
          },
          "metadata": {}
        },
        {
          "output_type": "stream",
          "name": "stdout",
          "text": [
            "\n",
            "[0, 7, 3]\n"
          ]
        },
        {
          "output_type": "display_data",
          "data": {
            "text/plain": [
              "<PIL.Image.Image image mode=L size=28x28 at 0x7F405E0C3690>"
            ],
            "image/png": "[encoded data removed]"
          },
          "metadata": {}
        },
        {
          "output_type": "stream",
          "name": "stdout",
          "text": [
            "\n"
          ]
        },
        {
          "output_type": "display_data",
          "data": {
            "text/plain": [
              "<PIL.Image.Image image mode=L size=28x28 at 0x7F405E0C39D0>"
            ],
            "image/png": "[encoded data removed]"
          },
          "metadata": {}
        },
        {
          "output_type": "stream",
          "name": "stdout",
          "text": [
            "\n"
          ]
        },
        {
          "output_type": "display_data",
          "data": {
            "text/plain": [
              "<PIL.Image.Image image mode=L size=28x28 at 0x7F40948C3390>"
            ],
            "image/png": "[encoded data removed]"
          },
          "metadata": {}
        },
        {
          "output_type": "stream",
          "name": "stdout",
          "text": [
            "\n",
            "[9, 9, 3]\n"
          ]
        },
        {
          "output_type": "display_data",
          "data": {
            "text/plain": [
              "<PIL.Image.Image image mode=L size=28x28 at 0x7F409531F290>"
            ],
            "image/png": "[encoded data removed]"
          },
          "metadata": {}
        },
        {
          "output_type": "stream",
          "name": "stdout",
          "text": [
            "\n"
          ]
        },
        {
          "output_type": "display_data",
          "data": {
            "text/plain": [
              "<PIL.Image.Image image mode=L size=28x28 at 0x7F405E044850>"
            ],
            "image/png": "[encoded data removed]"
          },
          "metadata": {}
        },
        {
          "output_type": "stream",
          "name": "stdout",
          "text": [
            "\n"
          ]
        },
        {
          "output_type": "display_data",
          "data": {
            "text/plain": [
              "<PIL.Image.Image image mode=L size=28x28 at 0x7F405E044A10>"
            ],
            "image/png": "[encoded data removed]"
          },
          "metadata": {}
        },
        {
          "output_type": "stream",
          "name": "stdout",
          "text": [
            "\n",
            "[0, 0, 8]\n"
          ]
        },
        {
          "output_type": "display_data",
          "data": {
            "text/plain": [
              "<PIL.Image.Image image mode=L size=28x28 at 0x7F405E044810>"
            ],
            "image/png": "[encoded data removed]"
          },
          "metadata": {}
        },
        {
          "output_type": "stream",
          "name": "stdout",
          "text": [
            "\n"
          ]
        },
        {
          "output_type": "display_data",
          "data": {
            "text/plain": [
              "<PIL.Image.Image image mode=L size=28x28 at 0x7F405E0440D0>"
            ],
            "image/png": "[encoded data removed]"
          },
          "metadata": {}
        },
        {
          "output_type": "stream",
          "name": "stdout",
          "text": [
            "\n"
          ]
        },
        {
          "output_type": "display_data",
          "data": {
            "text/plain": [
              "<PIL.Image.Image image mode=L size=28x28 at 0x7F405E044A10>"
            ],
            "image/png": "[encoded data removed]"
          },
          "metadata": {}
        },
        {
          "output_type": "stream",
          "name": "stdout",
          "text": [
            "\n"
          ]
        },
        {
          "output_type": "display_data",
          "data": {
            "text/plain": [
              "<PIL.Image.Image image mode=L size=28x28 at 0x7F405E044810>"
            ],
            "image/png": "[encoded data removed]"
          },
          "metadata": {}
        },
        {
          "output_type": "stream",
          "name": "stdout",
          "text": [
            "\n",
            "[0, 9, 6, 1]\n"
          ]
        },
        {
          "output_type": "display_data",
          "data": {
            "text/plain": [
              "<PIL.Image.Image image mode=L size=28x28 at 0x7F405E0C3FD0>"
            ],
            "image/png": "[encoded data removed]"
          },
          "metadata": {}
        },
        {
          "output_type": "stream",
          "name": "stdout",
          "text": [
            "\n"
          ]
        },
        {
          "output_type": "display_data",
          "data": {
            "text/plain": [
              "<PIL.Image.Image image mode=L size=28x28 at 0x7F40948C3A90>"
            ],
            "image/png": "[encoded data removed]"
          },
          "metadata": {}
        },
        {
          "output_type": "stream",
          "name": "stdout",
          "text": [
            "\n"
          ]
        },
        {
          "output_type": "display_data",
          "data": {
            "text/plain": [
              "<PIL.Image.Image image mode=L size=28x28 at 0x7F409532D150>"
            ],
            "image/png": "[encoded data removed]"
          },
          "metadata": {}
        },
        {
          "output_type": "stream",
          "name": "stdout",
          "text": [
            "\n",
            "[9, 9, 7]\n"
          ]
        }
      ],
      "source": [
        "PATH = os.path.join(cwd,\"drive/Othercomputers/Mycomp/screenshots/\")\n",
        "pics = [f for f in os.listdir(PATH) if os.path.isfile(os.path.join(PATH, f))]\n",
        "\n",
        "#https://www.mathworks.com/help/matlab/ref/rgb2gray.html#d123e1274575\n",
        "def rgb2gray(rgb):\n",
        "    r, g, b = rgb[:,:,0], rgb[:,:,1], rgb[:,:,2]\n",
        "    gray = 0.2989 * r + 0.5870 * g + 0.1140 * b\n",
        "    return gray\n",
        "\n",
        "def resizing(im):\n",
        "  im = Image.fromarray(im)\n",
        "  im = im.resize(size=(28, 28))\n",
        "  im = np.array(im)\n",
        "  im[im<=50] = 0 #threadholding = 50\n",
        "  return im\n",
        "\n",
        "def predict(data,device,model):\n",
        "  data = data.to(device)\n",
        "  out = model(data)\n",
        "  pred = torch.max(out.data, 1)[1]\n",
        "  return pred\n",
        "\n",
        "\n",
        "pics.sort(reverse = True) #most recent file first\n",
        "#print(pics)\n",
        "pages = 4\n",
        "coord = np.zeros((pages,10,2))\n",
        "pics = pics[:pages+1] #most recent 5 pics\n",
        "pics.sort()\n",
        "print(pics)\n",
        "items = 10 #4 for 4th page\n",
        "prices = np.zeros((pages, items))\n",
        "for page,f in enumerate(pics):\n",
        "  imgPATH = os.path.join(PATH,f)\n",
        "  img = cv2.imread(imgPATH)\n",
        "  if page < 4:\n",
        "    get_item_pic(img,itemTable,coord,page)\n",
        "  img = rgb2gray(img)\n",
        "  if page == 4: #last page is crystal price page\n",
        "    crystal = get_crystal_price(img,device,model)\n",
        "  else:\n",
        "    get_prices(img,device,model,prices,page)"
      ]
    },
    {
      "cell_type": "code",
      "source": [
        "#Item table creation code\n",
        "\"\"\"\n",
        "cwd = os.getcwd()\n",
        "tablePath = os.path.join(cwd,\"drive/My Drive/LAO/itemTable.npy\")\n",
        "itemTable = np.zeros((27,3))\n",
        "tempTable = np.zeros((50,3))\n",
        "for page,f in enumerate(pics):\n",
        "  y_st = 484 #starting y coordinate\n",
        "  y_ed = 541 #ending y coordinate\n",
        "  y_gap = y_ed - y_st \n",
        "  imgPATH = os.path.join(PATH,f)\n",
        "  img = cv2.imread(imgPATH)\n",
        "  for i in range(10):\n",
        "    cv2_imshow(img[y_st:y_ed,873:925,:])\n",
        "    print(np.sum(img[y_st:y_ed,873:925,0]))\n",
        "    print(np.sum(img[y_st:y_ed,873:925,1]))\n",
        "    print(np.sum(img[y_st:y_ed,873:925,2]))\n",
        "    tempTable[page*10+i,0] = np.sum(img[y_st:y_ed,873:925,0])\n",
        "    tempTable[page*10+i,1] = np.sum(img[y_st:y_ed,873:925,1])\n",
        "    tempTable[page*10+i,2] = np.sum(img[y_st:y_ed,873:925,2])\n",
        "    y_st += y_gap\n",
        "    y_ed += y_gap\n",
        "indexTable = [0,1,3,2,4,5,6,7,8,9,10,11,12,13,14,15,16,17,18,20,19,21,-1,-1,22,23,-1,-1,24,25,-1,-1,26]\n",
        "for i in range(len(indexTable)):\n",
        "  if indexTable[i] != -1:\n",
        "    itemTable[indexTable[i],:] = tempTable[i,:]\n",
        "np.save(tablePath,itemTable)\n",
        "print(itemTable)\n",
        "\"\"\""
      ],
      "metadata": {
        "colab": {
          "base_uri": "https://localhost:8080/",
          "height": 108
        },
        "id": "QBLgrJ1Rdw04",
        "outputId": "80aeaae7-e3c3-4bb6-f1c3-94a30343766b"
      },
      "execution_count": 94,
      "outputs": [
        {
          "output_type": "execute_result",
          "data": {
            "text/plain": [
              "'\\ncwd = os.getcwd()\\ntablePath = os.path.join(cwd,\"drive/My Drive/LAO/itemTable.npy\")\\nitemTable = np.zeros((27,3))\\ntempTable = np.zeros((50,3))\\nfor page,f in enumerate(pics):\\n  y_st = 484 #starting y coordinate\\n  y_ed = 541 #ending y coordinate\\n  y_gap = y_ed - y_st \\n  imgPATH = os.path.join(PATH,f)\\n  img = cv2.imread(imgPATH)\\n  for i in range(10):\\n    cv2_imshow(img[y_st:y_ed,873:925,:])\\n    print(np.sum(img[y_st:y_ed,873:925,0]))\\n    print(np.sum(img[y_st:y_ed,873:925,1]))\\n    print(np.sum(img[y_st:y_ed,873:925,2]))\\n    tempTable[page*10+i,0] = np.sum(img[y_st:y_ed,873:925,0])\\n    tempTable[page*10+i,1] = np.sum(img[y_st:y_ed,873:925,1])\\n    tempTable[page*10+i,2] = np.sum(img[y_st:y_ed,873:925,2])\\n    y_st += y_gap\\n    y_ed += y_gap\\nindexTable = [0,1,3,2,4,5,6,7,8,9,10,11,12,13,14,15,16,17,18,20,19,21,-1,-1,22,23,-1,-1,24,25,-1,-1,26]\\nfor i in range(len(indexTable)):\\n  if indexTable[i] != -1:\\n    itemTable[indexTable[i],:] = tempTable[i,:]\\nnp.save(tablePath,itemTable)\\nprint(itemTable)\\n'"
            ],
            "application/vnd.google.colaboratory.intrinsic+json": {
              "type": "string"
            }
          },
          "metadata": {},
          "execution_count": 94
        }
      ]
    },
    {
      "cell_type": "code",
      "execution_count": 95,
      "metadata": {
        "colab": {
          "base_uri": "https://localhost:8080/"
        },
        "id": "xl9FByp8qkTE",
        "outputId": "6ced8784-a730-4282-ff96-19c16d4d488d"
      },
      "outputs": [
        {
          "output_type": "stream",
          "name": "stdout",
          "text": [
            "[[1.00e+00 1.00e+00 5.00e+00 5.00e+00 9.00e+00 2.20e+01 9.00e+00 1.09e+02\n",
            "  2.00e+02 6.90e+01]\n",
            " [9.10e+01 5.00e+00 9.00e+00 1.40e+01 2.12e+02 2.00e+01 4.20e+02 3.60e+01\n",
            "  8.60e+01 1.61e+02]\n",
            " [1.79e+02 5.00e+00 5.80e+01 1.90e+02 3.55e+02 9.00e+00 4.70e+01 1.60e+02\n",
            "  6.52e+02 1.48e+02]\n",
            " [1.87e+02 2.90e+02 3.70e+02 3.99e+02 8.00e+02 1.69e+03 0.00e+00 0.00e+00\n",
            "  0.00e+00 0.00e+00]]\n",
            "799\n",
            "[[[1.31467750e+04 0.00000000e+00]\n",
            "  [1.56472205e+04 1.00000000e+00]\n",
            "  [1.13850444e+04 2.00000000e+00]\n",
            "  [8.43135511e+03 3.00000000e+00]\n",
            "  [8.13837687e+03 4.00000000e+00]\n",
            "  [7.07989273e+03 5.00000000e+00]\n",
            "  [7.71757792e+03 6.00000000e+00]\n",
            "  [9.92441938e+02 7.00000000e+00]\n",
            "  [2.42818636e+03 8.00000000e+00]\n",
            "  [1.20717244e+04 9.00000000e+00]]\n",
            "\n",
            " [[1.81464871e+04 1.00000000e+01]\n",
            "  [1.79026205e+04 1.10000000e+01]\n",
            "  [1.30678287e+04 1.20000000e+01]\n",
            "  [1.60289468e+04 1.30000000e+01]\n",
            "  [1.31030197e+04 1.40000000e+01]\n",
            "  [1.12438616e+04 1.50000000e+01]\n",
            "  [6.48447238e+03 1.60000000e+01]\n",
            "  [8.84023755e+02 1.70000000e+01]\n",
            "  [8.30624115e+03 2.00000000e+01]\n",
            "  [6.23943475e+03 1.90000000e+01]]\n",
            "\n",
            " [[3.44254789e+03 1.80000000e+01]\n",
            "  [1.03777607e+04 2.10000000e+01]\n",
            "  [4.21892336e+04 2.00000000e+01]\n",
            "  [4.25823252e+04 2.20000000e+01]\n",
            "  [1.13270500e+04 2.20000000e+01]\n",
            "  [8.11564822e+03 2.30000000e+01]\n",
            "  [1.93258584e+04 2.50000000e+01]\n",
            "  [1.76040724e+04 2.50000000e+01]\n",
            "  [2.04276700e+03 2.40000000e+01]\n",
            "  [3.79717618e+04 2.40000000e+01]]\n",
            "\n",
            " [[4.09635912e+04 1.00000000e+00]\n",
            "  [3.91118090e+03 2.50000000e+01]\n",
            "  [7.92111671e+03 2.60000000e+01]\n",
            "  [3.86156661e+04 2.40000000e+01]\n",
            "  [3.92845513e+04 2.20000000e+01]\n",
            "  [3.55543352e+04 2.20000000e+01]\n",
            "  [9.71451679e+04 6.00000000e+00]\n",
            "  [9.47016239e+04 6.00000000e+00]\n",
            "  [9.01321760e+04 6.00000000e+00]\n",
            "  [8.75012903e+04 6.00000000e+00]]]\n",
            "[  1.   1.   5.   5.   9.  22.   9. 109. 200.  69.  91.   5.   9.  14.\n",
            " 212.  20. 420.  36. 179. 161.  86.   5. 355.   9. 652. 290. 370.]\n"
          ]
        }
      ],
      "source": [
        "print(prices)\n",
        "print(crystal)\n",
        "print(coord)\n",
        "#for f in pics:\n",
        "#  imgPATH = os.path.join(PATH,f)\n",
        "#  img = cv2.imread(imgPATH)\n",
        "#  img = rgb2gray(img)\n",
        "#  cv2_imshow(img)\n",
        "final_prices = np.zeros(27)\n",
        "minV = np.zeros(27)\n",
        "for i in range(pages):\n",
        "  for j in range(10):\n",
        "    if minV[int(coord[i,j,1])] == 0 or minV[int(coord[i,j,1])] > int(coord[i,j,0]):\n",
        "      minV[int(coord[i,j,1])] = int(coord[i,j,0])\n",
        "      final_prices[int(coord[i,j,1])] = int(prices[i,j])\n",
        "print(final_prices)"
      ]
    },
    {
      "cell_type": "code",
      "execution_count": 96,
      "metadata": {
        "colab": {
          "base_uri": "https://localhost:8080/"
        },
        "id": "W0pusQbPIUDq",
        "outputId": "ce0c04db-0969-4814-f8a9-6d60a17a2627"
      },
      "outputs": [
        {
          "output_type": "stream",
          "name": "stdout",
          "text": [
            "Database(MongoClient(host=['lao-shard-00-00.zskci.mongodb.net:27017', 'lao-shard-00-01.zskci.mongodb.net:27017', 'lao-shard-00-02.zskci.mongodb.net:27017'], document_class=dict, tz_aware=False, connect=True, retrywrites=True, w='majority', authsource='admin', replicaset='atlas-i30wmu-shard-0', tls=True), 'stats')\n",
            "{'name': 'LAO', 'sizeOnDisk': 73728, 'empty': False}\n",
            "{'name': 'admin', 'sizeOnDisk': 348160, 'empty': False}\n",
            "{'name': 'local', 'sizeOnDisk': 633376768, 'empty': False}\n",
            "maris\n"
          ]
        }
      ],
      "source": [
        "f = open(dbPATH, 'r')\n",
        "dbcode = f.readline()\n",
        "f.close()\n",
        "\n",
        "client = pymongo.MongoClient(dbcode)\n",
        "print(client.stats)\n",
        "for db in client.list_databases():\n",
        "    print(db)\n",
        "db = client.LAO\n",
        "for collection in db.list_collection_names():\n",
        "    print(collection)\n",
        "collection = db.maris"
      ]
    },
    {
      "cell_type": "code",
      "execution_count": 97,
      "metadata": {
        "id": "1hhqVr8IabrF"
      },
      "outputs": [],
      "source": [
        "items = {\n",
        "    \"id\" : \"TEMPO\",\n",
        "    \"crystal\" : crystal,\n",
        "    \"i1\" : {\n",
        "        \"name\" : \"Destruction Stone Fragment\",\n",
        "        \"price\" : final_prices[0]\n",
        "    },\n",
        "    \"i2\" : {\n",
        "        \"name\" : \"Guardian Stone Fragment\",\n",
        "        \"price\" : final_prices[1]\n",
        "    },\n",
        "    \"i3\" : {\n",
        "        \"name\" : \"Destruction Stone\",\n",
        "        \"price\" : final_prices[2]\n",
        "    },\n",
        "    \"i4\" : {\n",
        "        \"name\" : \"Guardian Stone\",\n",
        "        \"price\" : final_prices[3]\n",
        "    },\n",
        "    \"i5\" : {\n",
        "        \"name\" : \"Guardian Stone Crystal\",\n",
        "        \"price\" : final_prices[4]\n",
        "    },\n",
        "    \"i6\" : {\n",
        "        \"name\" : \"Destruction Stone Crystal\",\n",
        "        \"price\" : final_prices[5]\n",
        "    },\n",
        "    \"i7\" : {\n",
        "        \"name\" : \"Simple Oreha Fusion Material\",\n",
        "        \"price\" : final_prices[6]\n",
        "    },\n",
        "    \"i8\" : {\n",
        "        \"name\" : \"Harmony Shard Pouch (S)\",\n",
        "        \"price\" : final_prices[7]\n",
        "    },\n",
        "    \"i9\" : {\n",
        "        \"name\" : \"Life Shard Pouch (S)\",\n",
        "        \"price\" : final_prices[8]\n",
        "    },\n",
        "    \"i10\" : {\n",
        "        \"name\" : \"Solar Grace\",\n",
        "        \"price\" : final_prices[9]\n",
        "    },\n",
        "    \"i11\" : {\n",
        "        \"name\" : \"Honor Shard Pouch (S)\",\n",
        "        \"price\" : final_prices[10]\n",
        "    },\n",
        "    \"i12\" : {\n",
        "        \"name\" : \"Caldarr Fusion Material\",\n",
        "        \"price\" : final_prices[11]\n",
        "    },\n",
        "    \"i13\" : {\n",
        "        \"name\" : \"Basic Oreha Fusion Material\",\n",
        "        \"price\" : final_prices[12]\n",
        "    },\n",
        "    \"i14\" : {\n",
        "        \"name\" : \"Harmony Leapstone\",\n",
        "        \"price\" : final_prices[13]\n",
        "    },\n",
        "    \"i15\" : {\n",
        "        \"name\" : \"Harmony Shard Pouch (M)\",\n",
        "        \"price\" : final_prices[14]\n",
        "    },\n",
        "    \"i16\" : {\n",
        "        \"name\" : \"Life Leapstone\",\n",
        "        \"price\" : final_prices[15]\n",
        "    },\n",
        "    \"i17\" : {\n",
        "        \"name\" : \"Life Shard Pouch (M)\",\n",
        "        \"price\" : final_prices[16]\n",
        "    },\n",
        "    \"i18\" : {\n",
        "        \"name\" : \"Honor Leapstone\",\n",
        "        \"price\" : final_prices[17]\n",
        "    },\n",
        "    \"i19\" : {\n",
        "        \"name\" : \"Honor Shard Pouch (M)\",\n",
        "        \"price\" : final_prices[18]\n",
        "    },\n",
        "    \"i20\" : {\n",
        "        \"name\" : \"Solar Blessing\",\n",
        "        \"price\" : final_prices[19]\n",
        "    },\n",
        "    \"i21\" : {\n",
        "        \"name\" : \"Great Honor Leapstone\",\n",
        "        \"price\" : final_prices[20]\n",
        "    },\n",
        "    \"i22\" : {\n",
        "        \"name\" : \"Star's Breath\",\n",
        "        \"price\" : final_prices[21]\n",
        "    },\n",
        "    \"i23\" : {\n",
        "        \"name\" : \"Harmony Shard Pouch (L)\",\n",
        "        \"price\" : final_prices[22]\n",
        "    },\n",
        "    \"i24\" : {\n",
        "        \"name\" : \"Moon's Breath\",\n",
        "        \"price\" : final_prices[23]\n",
        "    },\n",
        "    \"i25\" : {\n",
        "        \"name\" : \"Life Shard Pouch (L)\",\n",
        "        \"price\" : final_prices[24]\n",
        "    },\n",
        "    \"i26\" : {\n",
        "        \"name\" : \"Honor Shard Pouch (L)\",\n",
        "        \"price\" : final_prices[25]\n",
        "    },\n",
        "    \"i27\" : {\n",
        "        \"name\" : \"Solar Protection\",\n",
        "        \"price\" : final_prices[26]\n",
        "    }\n",
        "}"
      ]
    },
    {
      "cell_type": "code",
      "execution_count": 98,
      "metadata": {
        "colab": {
          "base_uri": "https://localhost:8080/"
        },
        "id": "H8H4axBYh83Q",
        "outputId": "0853a804-b34d-4f5b-9759-21bf2006a846"
      },
      "outputs": [
        {
          "output_type": "execute_result",
          "data": {
            "text/plain": [
              "ObjectId('62aec62c6730252bcf0f1ffb')"
            ]
          },
          "metadata": {},
          "execution_count": 98
        }
      ],
      "source": [
        "collection.delete_many( { 'id': \"TEMPO\" } )\n",
        "collection.insert_one(items).inserted_id"
      ]
    }
  ],
  "metadata": {
    "accelerator": "GPU",
    "colab": {
      "collapsed_sections": [],
      "machine_shape": "hm",
      "name": "LAO.ipynb",
      "provenance": []
    },
    "kernelspec": {
      "display_name": "Python 3",
      "name": "python3"
    },
    "language_info": {
      "name": "python"
    }
  },
  "nbformat": 4,
  "nbformat_minor": 0
}