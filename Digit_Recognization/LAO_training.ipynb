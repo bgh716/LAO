{
  "nbformat": 4,
  "nbformat_minor": 0,
  "metadata": {
    "colab": {
      "name": "LAO_training.ipynb",
      "provenance": [],
      "collapsed_sections": [],
      "machine_shape": "hm"
    },
    "kernelspec": {
      "name": "python3",
      "display_name": "Python 3"
    },
    "language_info": {
      "name": "python"
    },
    "accelerator": "GPU"
  },
  "cells": [
    {
      "cell_type": "code",
      "execution_count": null,
      "metadata": {
        "colab": {
          "base_uri": "https://localhost:8080/"
        },
        "id": "F0mkUjFAvclF",
        "outputId": "ff7d2975-8bb4-4207-d538-4e90f13e9942"
      },
      "outputs": [
        {
          "output_type": "stream",
          "name": "stdout",
          "text": [
            "Mounted at /content/drive\n"
          ]
        }
      ],
      "source": [
        "googlimport torch\n",
        "import torch.nn as nn\n",
        "import torch.nn.functional as F\n",
        "import torch.optim as optim\n",
        "import torchvision\n",
        "import torchvision.transforms as transfroms\n",
        "from google.colab import drive\n",
        "import os\n",
        "drive.mount('/content/drive')"
      ]
    },
    {
      "cell_type": "code",
      "source": [
        "BASE_DIR = '/content/drive/My Drive/LAO'"
      ],
      "metadata": {
        "id": "sIxHyPbX3v4R"
      },
      "execution_count": null,
      "outputs": []
    },
    {
      "cell_type": "code",
      "source": [
        "print(torch.cuda.is_available())\n",
        "device = torch.device('cuda' if torch.cuda.is_available() else 'cpu')\n",
        "print(device)"
      ],
      "metadata": {
        "colab": {
          "base_uri": "https://localhost:8080/"
        },
        "id": "sO-uIuufvnUq",
        "outputId": "7ef03315-0fc6-4102-dff9-17f69a3afd9f"
      },
      "execution_count": null,
      "outputs": [
        {
          "output_type": "stream",
          "name": "stdout",
          "text": [
            "True\n",
            "cuda\n"
          ]
        }
      ]
    },
    {
      "cell_type": "code",
      "source": [
        "#Loading MNIST dataset\n",
        "train_set = torchvision.datasets.MNIST(\n",
        "    root = BASE_DIR,\n",
        "    train = True,\n",
        "    download = False,\n",
        "    transform = transfroms.Compose([\n",
        "        transfroms.ToTensor() # Data Normalization\n",
        "    ])\n",
        ")\n",
        "test_set = torchvision.datasets.MNIST(\n",
        "    root = BASE_DIR,\n",
        "    train = False,\n",
        "    download = False,\n",
        "    transform = transfroms.Compose([\n",
        "        transfroms.ToTensor() # Data Normalization\n",
        "    ])\n",
        ")"
      ],
      "metadata": {
        "id": "bDhYwZPr4oaI"
      },
      "execution_count": null,
      "outputs": []
    },
    {
      "cell_type": "code",
      "source": [
        "#Hyper Parameters\n",
        "learning_rate = 0.001\n",
        "batch_size = 100\n",
        "num_classes = 10\n",
        "epochs = 10"
      ],
      "metadata": {
        "id": "QSlWLiYm471J"
      },
      "execution_count": null,
      "outputs": []
    },
    {
      "cell_type": "code",
      "source": [
        "train_loader = torch.utils.data.DataLoader(train_set, batch_size=batch_size, shuffle=True)\n",
        "test_loader = torch.utils.data.DataLoader(test_set, batch_size=batch_size, shuffle=True)"
      ],
      "metadata": {
        "id": "nT398ew_4_0u"
      },
      "execution_count": null,
      "outputs": []
    },
    {
      "cell_type": "code",
      "source": [
        "#CNN Model\n",
        "class ConvNet(nn.Module):\n",
        "  def __init__(self):\n",
        "    super(ConvNet, self).__init__()\n",
        "\n",
        "    self.conv1 = nn.Sequential(\n",
        "      nn.Conv2d(1, 10, 5, padding = 2),\n",
        "      nn.BatchNorm2d(10),\n",
        "      nn.ReLU(inplace=True),\n",
        "      nn.Conv2d(10, 20, 5),\n",
        "      nn.BatchNorm2d(20),\n",
        "      nn.ReLU(inplace=True),\n",
        "      nn.MaxPool2d(2, 2),\n",
        "    )\n",
        "\n",
        "    self.conv2 = nn.Sequential(\n",
        "      nn.Conv2d(20, 40, 5, padding = 2),\n",
        "      nn.BatchNorm2d(40),\n",
        "      nn.ReLU(inplace=True),\n",
        "      nn.Conv2d(40, 80, 5),\n",
        "      nn.BatchNorm2d(80),\n",
        "      nn.ReLU(inplace=True),\n",
        "      nn.MaxPool2d(2, 2),\n",
        "    )\n",
        "\n",
        "    self.fc_net = nn.Sequential(\n",
        "      nn.Dropout2d(p=0.25, inplace=False),\n",
        "      nn.Linear(80 * 4 * 4, 100),\n",
        "      nn.BatchNorm1d(100),\n",
        "      nn.ReLU(inplace=True),\n",
        "      nn.Linear(100, num_classes),\n",
        "    ) # channel * W * H for first linear(FC) parameter\n",
        "\n",
        "  def forward(self, x):\n",
        "    x = self.conv1(x)\n",
        "    x = self.conv2(x)\n",
        "    x = x.view(-1, 80 * 4 * 4) #2D -> flat\n",
        "    x = self.fc_net(x)\n",
        "\n",
        "    return F.log_softmax(x)\n",
        "\n",
        "model = ConvNet().to(device)"
      ],
      "metadata": {
        "id": "Q36-URgB7CBh"
      },
      "execution_count": null,
      "outputs": []
    },
    {
      "cell_type": "code",
      "source": [
        "criterion = nn.CrossEntropyLoss().to(device)\n",
        "optimizer = torch.optim.Adam(model.parameters(), lr = learning_rate)"
      ],
      "metadata": {
        "id": "pwCMM7n9BPLt"
      },
      "execution_count": null,
      "outputs": []
    },
    {
      "cell_type": "code",
      "source": [
        "#Training the CNN Model\n",
        "for epoch in range(epochs):\n",
        "    avg_cost = 0\n",
        "\n",
        "    for data, target in train_loader:\n",
        "        data = data.to(device)\n",
        "        target = target.to(device)\n",
        "        optimizer.zero_grad()\n",
        "        hypothesis = model(data)\n",
        "        cost = criterion(hypothesis, target)\n",
        "        cost.backward()\n",
        "        optimizer.step()\n",
        "        avg_cost += cost / len(train_loader)\n",
        "    print('[Epoch: {:>4}] cost = {:>.9}'.format(epoch + 1, avg_cost))"
      ],
      "metadata": {
        "colab": {
          "base_uri": "https://localhost:8080/"
        },
        "id": "tNSGnU7ZBYjL",
        "outputId": "4aa341da-9d7b-449f-939e-de9c2c4fffd5"
      },
      "execution_count": null,
      "outputs": [
        {
          "output_type": "stream",
          "name": "stderr",
          "text": [
            "/usr/local/lib/python3.7/dist-packages/ipykernel_launcher.py:39: UserWarning: Implicit dimension choice for log_softmax has been deprecated. Change the call to include dim=X as an argument.\n"
          ]
        },
        {
          "output_type": "stream",
          "name": "stdout",
          "text": [
            "[Epoch:    1] cost = 0.127816096\n",
            "[Epoch:    2] cost = 0.036233101\n",
            "[Epoch:    3] cost = 0.0260819104\n",
            "[Epoch:    4] cost = 0.022094816\n",
            "[Epoch:    5] cost = 0.0189132672\n",
            "[Epoch:    6] cost = 0.0165449586\n",
            "[Epoch:    7] cost = 0.0153136784\n",
            "[Epoch:    8] cost = 0.0136748869\n",
            "[Epoch:    9] cost = 0.0103081344\n",
            "[Epoch:   10] cost = 0.00943707395\n"
          ]
        }
      ]
    },
    {
      "cell_type": "code",
      "source": [
        "#Save model in LOCAL\n",
        "cwd = os.getcwd()\n",
        "PATH = os.path.join(cwd,\"drive/My Drive/LAO/LAO.pth\")\n",
        "torch.save(model, PATH)\n",
        "\n",
        "model = torch.load(PATH)\n",
        "model.eval()"
      ],
      "metadata": {
        "colab": {
          "base_uri": "https://localhost:8080/"
        },
        "id": "kiTs27oTHV_3",
        "outputId": "884d3215-4f10-475e-bc28-bbe145151f1d"
      },
      "execution_count": null,
      "outputs": [
        {
          "output_type": "execute_result",
          "data": {
            "text/plain": [
              "ConvNet(\n",
              "  (conv1): Sequential(\n",
              "    (0): Conv2d(1, 10, kernel_size=(5, 5), stride=(1, 1), padding=(2, 2))\n",
              "    (1): BatchNorm2d(10, eps=1e-05, momentum=0.1, affine=True, track_running_stats=True)\n",
              "    (2): ReLU(inplace=True)\n",
              "    (3): Conv2d(10, 20, kernel_size=(5, 5), stride=(1, 1))\n",
              "    (4): BatchNorm2d(20, eps=1e-05, momentum=0.1, affine=True, track_running_stats=True)\n",
              "    (5): ReLU(inplace=True)\n",
              "    (6): MaxPool2d(kernel_size=2, stride=2, padding=0, dilation=1, ceil_mode=False)\n",
              "  )\n",
              "  (conv2): Sequential(\n",
              "    (0): Conv2d(20, 40, kernel_size=(5, 5), stride=(1, 1), padding=(2, 2))\n",
              "    (1): BatchNorm2d(40, eps=1e-05, momentum=0.1, affine=True, track_running_stats=True)\n",
              "    (2): ReLU(inplace=True)\n",
              "    (3): Conv2d(40, 80, kernel_size=(5, 5), stride=(1, 1))\n",
              "    (4): BatchNorm2d(80, eps=1e-05, momentum=0.1, affine=True, track_running_stats=True)\n",
              "    (5): ReLU(inplace=True)\n",
              "    (6): MaxPool2d(kernel_size=2, stride=2, padding=0, dilation=1, ceil_mode=False)\n",
              "  )\n",
              "  (fc_net): Sequential(\n",
              "    (0): Dropout2d(p=0.25, inplace=False)\n",
              "    (1): Linear(in_features=1280, out_features=100, bias=True)\n",
              "    (2): BatchNorm1d(100, eps=1e-05, momentum=0.1, affine=True, track_running_stats=True)\n",
              "    (3): ReLU(inplace=True)\n",
              "    (4): Linear(in_features=100, out_features=10, bias=True)\n",
              "  )\n",
              ")"
            ]
          },
          "metadata": {},
          "execution_count": 10
        }
      ]
    },
    {
      "cell_type": "code",
      "source": [
        "#Evaluation\n",
        "model.eval()\n",
        "with torch.no_grad():\n",
        "    correct = 0\n",
        "    total = 0\n",
        "\n",
        "    for data, target in test_loader:\n",
        "        data = data.to(device)\n",
        "        target = target.to(device)\n",
        "        out = model(data)\n",
        "        preds = torch.max(out.data, 1)[1]\n",
        "        total += len(target)\n",
        "        correct += (preds==target).sum().item()\n",
        "        \n",
        "    print('Test Accuracy: ', 100.*correct/total, '%')\n"
      ],
      "metadata": {
        "colab": {
          "base_uri": "https://localhost:8080/"
        },
        "id": "GfVJvmRnDBF7",
        "outputId": "244e7c6f-75c0-459d-982c-3f400478c30f"
      },
      "execution_count": null,
      "outputs": [
        {
          "output_type": "stream",
          "name": "stderr",
          "text": [
            "/usr/local/lib/python3.7/dist-packages/ipykernel_launcher.py:39: UserWarning: Implicit dimension choice for log_softmax has been deprecated. Change the call to include dim=X as an argument.\n"
          ]
        },
        {
          "output_type": "stream",
          "name": "stdout",
          "text": [
            "Test Accuracy:  99.51 %\n"
          ]
        }
      ]
    }
  ]
}